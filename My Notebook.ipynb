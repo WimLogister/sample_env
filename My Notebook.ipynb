{
 "cells": [
  {
   "cell_type": "code",
   "execution_count": 1,
   "id": "46f9944a-e98d-4750-887c-3aac9c8ca466",
   "metadata": {},
   "outputs": [],
   "source": [
    "import pandas as pd"
   ]
  },
  {
   "cell_type": "code",
   "execution_count": 2,
   "id": "742aa21d-9c4a-46a1-bdf6-cd253f2c55e5",
   "metadata": {},
   "outputs": [],
   "source": [
    "df = pd.read_excel(\"Sample Data.xlsx\")"
   ]
  },
  {
   "cell_type": "code",
   "execution_count": 3,
   "id": "2a040dfc-9012-431b-9f83-7be242c4e382",
   "metadata": {},
   "outputs": [
    {
     "name": "stdout",
     "output_type": "stream",
     "text": [
      "   ORDER_ID   SKU_ID  QTY\n",
      "0         1  YTD-600    8\n",
      "1         2  JYB-791    9\n",
      "2         3  IWN-833    8\n",
      "3         3  RVJ-765    5\n",
      "4         3  DWH-347    6\n"
     ]
    }
   ],
   "source": [
    "print(df.head())"
   ]
  }
 ],
 "metadata": {
  "kernelspec": {
   "display_name": "putwall",
   "language": "python",
   "name": "putwall"
  },
  "language_info": {
   "codemirror_mode": {
    "name": "ipython",
    "version": 3
   },
   "file_extension": ".py",
   "mimetype": "text/x-python",
   "name": "python",
   "nbconvert_exporter": "python",
   "pygments_lexer": "ipython3",
   "version": "3.9.12"
  }
 },
 "nbformat": 4,
 "nbformat_minor": 5
}
